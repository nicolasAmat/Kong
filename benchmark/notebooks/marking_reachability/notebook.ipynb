{
 "cells": [
  {
   "cell_type": "markdown",
   "metadata": {},
   "source": [
    "# Performance Evaluation -- Marking Reachability"
   ]
  },
  {
   "cell_type": "markdown",
   "metadata": {},
   "source": [
    "In this notebook, we report on some experimental results obtained with Kong."
   ]
  },
  {
   "cell_type": "markdown",
   "metadata": {},
   "source": [
    "### Setup"
   ]
  },
  {
   "cell_type": "markdown",
   "metadata": {},
   "source": [
    "Import libraries."
   ]
  },
  {
   "cell_type": "code",
   "execution_count": null,
   "metadata": {},
   "outputs": [],
   "source": [
    "%matplotlib inline\n",
    "\n",
    "import pandas as pd\n",
    "import matplotlib.pyplot as plt\n",
    "import matplotlib.ticker as ticker\n",
    "import csv\n",
    "import numpy as np"
   ]
  },
  {
   "cell_type": "markdown",
   "metadata": {},
   "source": [
    "Path to data."
   ]
  },
  {
   "cell_type": "code",
   "execution_count": null,
   "metadata": {},
   "outputs": [],
   "source": [
    "path_data = '../../csv/'"
   ]
  },
  {
   "cell_type": "markdown",
   "metadata": {},
   "source": [
    "Settings."
   ]
  },
  {
   "cell_type": "code",
   "execution_count": null,
   "metadata": {},
   "outputs": [],
   "source": [
    "TIMEOUT = 300"
   ]
  },
  {
   "cell_type": "markdown",
   "metadata": {},
   "source": [
    "## Load Data Frame"
   ]
  },
  {
   "cell_type": "code",
   "execution_count": null,
   "metadata": {},
   "outputs": [],
   "source": [
    "df_computations = pd.read_csv(path_data + \"markings.csv\")\n",
    "\n",
    "df_computations = df_computations.replace(0, 0.1)\n",
    "df_computations.loc[-1] = [\"Start\", np.nan, 0, 0, 100, \"true\"]\n",
    "df_computations.index = df_computations.index + 1\n",
    "df_computations = df_computations.sort_index()\n",
    "\n",
    "df_computations"
   ]
  },
  {
   "cell_type": "markdown",
   "metadata": {},
   "source": [
    "## Analysis"
   ]
  },
  {
   "cell_type": "code",
   "execution_count": null,
   "metadata": {},
   "outputs": [],
   "source": [
    "def draw_figure(df, ratio_min):\n",
    "    \"\"\" Compare the number of queries computed between Sift and Kong for a given time limit.\n",
    "    \"\"\"\n",
    "    fontsize = 24\n",
    "\n",
    "    markers = {\"TIME_KONG\": \"s\", \"TIME_SIFT\": \"o\"}\n",
    "    colors = {\"TIME_KONG\": \"tab:orange\", \"TIME_SIFT\": \"tab:blue\"}\n",
    "    labels = {\"TIME_KONG\": \"Kong\", \"TIME_SIFT\": \"Sift\"}\n",
    "\n",
    "    plt.figure(figsize=(12, 10))\n",
    "\n",
    "    for tool in [\"TIME_SIFT\", \"TIME_KONG\"]:\n",
    "        results = df.query('RATIO >= {}'.format(ratio_min))[tool].dropna().sort_values().reset_index(drop=True)\n",
    "        results.plot(label=labels[tool], color=colors[tool], linewidth=4, markersize=14, markevery=30)\n",
    "\n",
    "    plt.yscale('log')\n",
    "    plt.xticks(fontsize=fontsize)\n",
    "    plt.yticks(fontsize=fontsize)\n",
    "    ax = plt.gca()\n",
    "    ax.yaxis.set_major_formatter(ticker.FuncFormatter(lambda y, _: '{:g}'.format(y)))\n",
    "\n",
    "    plt.grid()\n",
    "    plt.legend(loc='upper left', fontsize=fontsize)\n",
    "    plt.xlabel('Number of computed queries', fontsize=fontsize)\n",
    "    plt.ylabel('Running time (s)', fontsize=fontsize)\n",
    "    plt.savefig(\"pics/reachability_queries_ratio_min_{}.png\".format(ratio_min), bbox_inches='tight')\n",
    "    plt.show()"
   ]
  },
  {
   "cell_type": "code",
   "execution_count": null,
   "metadata": {},
   "outputs": [],
   "source": [
    "draw_figure(df_computations, 0)"
   ]
  },
  {
   "cell_type": "code",
   "execution_count": null,
   "metadata": {},
   "outputs": [],
   "source": [
    "draw_figure(df_computations, 50)"
   ]
  }
 ],
 "metadata": {
  "kernelspec": {
   "display_name": "Python 3 (ipykernel)",
   "language": "python",
   "name": "python3"
  },
  "language_info": {
   "codemirror_mode": {
    "name": "ipython",
    "version": 3
   },
   "file_extension": ".py",
   "mimetype": "text/x-python",
   "name": "python",
   "nbconvert_exporter": "python",
   "pygments_lexer": "ipython3",
   "version": "3.10.4"
  }
 },
 "nbformat": 4,
 "nbformat_minor": 4
}
