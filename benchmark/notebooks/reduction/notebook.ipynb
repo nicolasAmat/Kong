{
 "cells": [
  {
   "cell_type": "markdown",
   "metadata": {},
   "source": [
    "# Performance Evaluation -- Reductions"
   ]
  },
  {
   "cell_type": "markdown",
   "metadata": {},
   "source": [
    "In this notebook, we report on some experimental results obtained with Kong."
   ]
  },
  {
   "cell_type": "markdown",
   "metadata": {},
   "source": [
    "### Setup"
   ]
  },
  {
   "cell_type": "markdown",
   "metadata": {},
   "source": [
    "Import librairies."
   ]
  },
  {
   "cell_type": "code",
   "execution_count": null,
   "metadata": {},
   "outputs": [],
   "source": [
    "%matplotlib inline\n",
    "\n",
    "import math\n",
    "import matplotlib.pyplot as plt\n",
    "import matplotlib as mpl\n",
    "import numpy as np\n",
    "import pandas as pd"
   ]
  },
  {
   "cell_type": "markdown",
   "metadata": {},
   "source": [
    "Path to data."
   ]
  },
  {
   "cell_type": "code",
   "execution_count": null,
   "metadata": {},
   "outputs": [],
   "source": [
    "path_data = '../../csv/'\n",
    "path_lists = '../../instances/MCC2021_lists/'"
   ]
  },
  {
   "cell_type": "markdown",
   "metadata": {},
   "source": [
    "## Load Data Frames"
   ]
  },
  {
   "cell_type": "markdown",
   "metadata": {},
   "source": [
    "### All instances."
   ]
  },
  {
   "cell_type": "code",
   "execution_count": null,
   "metadata": {},
   "outputs": [],
   "source": [
    "# Read 'reductions.csv'\n",
    "df_reductions = pd.read_csv(path_data + 'reductions.csv')\n",
    "df_reductions"
   ]
  },
  {
   "cell_type": "markdown",
   "metadata": {},
   "source": [
    "### Safe instances."
   ]
  },
  {
   "cell_type": "code",
   "execution_count": null,
   "metadata": {},
   "outputs": [],
   "source": [
    "# Read safe nets\n",
    "df_safe_nets = pd.read_csv(path_lists + 'safe_list', names=[\"INSTANCE\"], header=None)\n",
    "df_reductions_safe = df_reductions.merge(df_safe_nets, how='inner', on='INSTANCE')\n",
    "df_reductions_safe"
   ]
  },
  {
   "cell_type": "markdown",
   "metadata": {},
   "source": [
    "## Analysis"
   ]
  },
  {
   "cell_type": "code",
   "execution_count": null,
   "metadata": {},
   "outputs": [],
   "source": [
    "def draw_figure(df, name, xlim):\n",
    "    \"\"\" Compare the reduction ratio between the full reduce and the TFGs.\n",
    "    \"\"\"\n",
    "    fontsize = 23\n",
    "\n",
    "    ratio_frequency_reduce = df['RATIO_REDUCE'].value_counts().sort_index(ascending=False)\n",
    "    df_ratio_frequency_reduce = pd.DataFrame({'INSTANCES': ratio_frequency_reduce.values}).cumsum()\n",
    "    df_ratio_frequency_reduce['RATIO_REDUCE'] = ratio_frequency_reduce.index\n",
    "\n",
    "    df_first_row_reduce = pd.DataFrame([{'INSTANCES': 1, 'RATIO_REDUCE': df_ratio_frequency_reduce['RATIO_REDUCE'][0]}])\n",
    "    df_ratio_frequency_reduce = pd.concat([df_first_row_reduce, df_ratio_frequency_reduce])\n",
    "    ax = df_ratio_frequency_reduce.plot.area(x='INSTANCES', xlim=(0,df_reductions.shape[0]), ylim=(0,100), figsize=(12,10))\n",
    "    ax.legend([\"Best possible reduction with Reduce\", \"Reduction leading to a well-formed TFG\"])\n",
    "\n",
    "    # Count instances with the same reduction ratio\n",
    "    ratio_frequency = df_reductions['RATIO_TFG'].value_counts().sort_index(ascending=False)\n",
    "\n",
    "    # Cumulative data frame\n",
    "    df_ratio_frequency = pd.DataFrame({'INSTANCES': ratio_frequency.values}).cumsum()\n",
    "    df_ratio_frequency['RATIO_TFG'] = ratio_frequency.index\n",
    "\n",
    "    # Add row '0'\n",
    "    df_first_row = pd.DataFrame([{'INSTANCES': 1, 'RATIO_TFG': df_ratio_frequency['RATIO_TFG'][0]}])\n",
    "    df_ratio_frequency = pd.concat([df_first_row, df_ratio_frequency])\n",
    "\n",
    "    # Draw instances reduction ratio\n",
    "    df_ratio_frequency.plot.area(x='INSTANCES', xlim=(0,df_reductions.shape[0]), ylim=(0,100), legend='', ax=ax)\n",
    "    plt.xlabel('Number of instances', fontsize=fontsize)\n",
    "    plt.ylabel('Reduction ratio (%)', fontsize=fontsize)\n",
    "    L = plt.legend(fontsize=fontsize)\n",
    "    L.get_texts()[0].set_text('Best possible reduction with Reduce')\n",
    "    L.get_texts()[1].set_text('Reduction leading to a well-formed TFG')\n",
    "    plt.xticks(fontsize=fontsize)\n",
    "    plt.yticks(fontsize=fontsize)\n",
    "    plt.xlim(xlim)\n",
    "    plt.grid()\n",
    "    plt.savefig('pics/{}.png'.format(name), bbox_inches = 'tight')\n",
    "    plt.show()"
   ]
  },
  {
   "cell_type": "code",
   "execution_count": null,
   "metadata": {},
   "outputs": [],
   "source": [
    "def table(df):\n",
    "    \"\"\" Summary table.\n",
    "    \"\"\"\n",
    "    def table_helper(df, kind):\n",
    "        return [kind, df['TIME_' + kind].median(), df['TIME_' + kind].mean(), df['RATIO_' + kind].median(), df['RATIO_' + kind].mean()]\n",
    "\n",
    "    performance_overview = pd.DataFrame([table_helper(df, kind) for kind in ['TFG', 'REDUCE']], columns=['Kind', 'Median Reduction Ratio', 'Mean Reduction Ratio', 'Median Reduction Time', 'Mean Reduction Time'])\n",
    "    performance_overview.set_index('Kind')\n",
    "    return performance_overview"
   ]
  },
  {
   "cell_type": "markdown",
   "metadata": {},
   "source": [
    "### All instances."
   ]
  },
  {
   "cell_type": "code",
   "execution_count": null,
   "metadata": {},
   "outputs": [],
   "source": [
    "table(df_reductions)"
   ]
  },
  {
   "cell_type": "code",
   "execution_count": null,
   "metadata": {},
   "outputs": [],
   "source": [
    "draw_figure(df_reductions, \"reductions_all_instances\", [0, 1100])"
   ]
  },
  {
   "cell_type": "markdown",
   "metadata": {},
   "source": [
    "### Safe instances."
   ]
  },
  {
   "cell_type": "code",
   "execution_count": null,
   "metadata": {},
   "outputs": [],
   "source": [
    "table(df_reductions_safe)"
   ]
  },
  {
   "cell_type": "code",
   "execution_count": null,
   "metadata": {},
   "outputs": [],
   "source": [
    "draw_figure(df_reductions_safe, \"reductions_safe_instances\", [0, 600])"
   ]
  }
 ],
 "metadata": {
  "kernelspec": {
   "display_name": "Python 3 (ipykernel)",
   "language": "python",
   "name": "python3"
  },
  "language_info": {
   "codemirror_mode": {
    "name": "ipython",
    "version": 3
   },
   "file_extension": ".py",
   "mimetype": "text/x-python",
   "name": "python",
   "nbconvert_exporter": "python",
   "pygments_lexer": "ipython3",
   "version": "3.10.4"
  }
 },
 "nbformat": 4,
 "nbformat_minor": 4
}
