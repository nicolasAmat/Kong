{
 "cells": [
  {
   "cell_type": "markdown",
   "metadata": {},
   "source": [
    "# Performance Evaluation -- Concurrent Places"
   ]
  },
  {
   "cell_type": "markdown",
   "metadata": {},
   "source": [
    "In this notebook, we report on some experimental results obtained with Kong."
   ]
  },
  {
   "cell_type": "markdown",
   "metadata": {},
   "source": [
    "### Setup"
   ]
  },
  {
   "cell_type": "markdown",
   "metadata": {},
   "source": [
    "Import librairies."
   ]
  },
  {
   "cell_type": "code",
   "execution_count": null,
   "metadata": {},
   "outputs": [],
   "source": [
    "%matplotlib inline\n",
    "\n",
    "import math\n",
    "import matplotlib.pyplot as plt\n",
    "import matplotlib.ticker as ticker\n",
    "import matplotlib as mpl\n",
    "import numpy as np\n",
    "import pandas as pd"
   ]
  },
  {
   "cell_type": "markdown",
   "metadata": {},
   "source": [
    "Path to data."
   ]
  },
  {
   "cell_type": "code",
   "execution_count": null,
   "metadata": {},
   "outputs": [],
   "source": [
    "path_data = '../../csv/'\n",
    "path_lists = '../../instances/MCC2021_lists/'"
   ]
  },
  {
   "cell_type": "markdown",
   "metadata": {},
   "source": [
    "Settings."
   ]
  },
  {
   "cell_type": "code",
   "execution_count": null,
   "metadata": {},
   "outputs": [],
   "source": [
    "TIMEOUT = 900"
   ]
  },
  {
   "cell_type": "markdown",
   "metadata": {},
   "source": [
    "## Load Data Frames"
   ]
  },
  {
   "cell_type": "markdown",
   "metadata": {},
   "source": [
    "### Reductions data frame."
   ]
  },
  {
   "cell_type": "code",
   "execution_count": null,
   "metadata": {},
   "outputs": [],
   "source": [
    "# Read 'reductions.csv'\n",
    "df_reductions = pd.read_csv(path_data + 'reductions.csv')\n",
    "df_reductions = df_reductions.rename(columns={\"RATIO_TFG\": \"RATIO\"})[['INSTANCE', 'RATIO']]\n",
    "df_reductions"
   ]
  },
  {
   "cell_type": "markdown",
   "metadata": {},
   "source": [
    "### Complete computations data frame (global timeout of 900 seconds)."
   ]
  },
  {
   "cell_type": "code",
   "execution_count": null,
   "metadata": {},
   "outputs": [],
   "source": [
    "# Read 'complete_computations.csv'\n",
    "df_complete_computations = pd.read_csv(path_data + 'complete_concurrent_computations.csv')\n",
    "df_complete_computations"
   ]
  },
  {
   "cell_type": "markdown",
   "metadata": {},
   "source": [
    "### Partial computations data frame (timeout of 60 seconds for the BDD exploration and global timeout of 900 seconds)."
   ]
  },
  {
   "cell_type": "code",
   "execution_count": null,
   "metadata": {},
   "outputs": [],
   "source": [
    "# Read 'partial_computations.csv'\n",
    "df_partial_computations = pd.read_csv(path_data + 'partial_concurrent_computations.csv')\n",
    "df_partial_computations"
   ]
  },
  {
   "cell_type": "markdown",
   "metadata": {},
   "source": [
    "## Tool Confidence rate"
   ]
  },
  {
   "cell_type": "markdown",
   "metadata": {},
   "source": [
    "### Reliability"
   ]
  },
  {
   "cell_type": "markdown",
   "metadata": {},
   "source": [
    "Complete computations."
   ]
  },
  {
   "cell_type": "code",
   "execution_count": null,
   "metadata": {},
   "outputs": [],
   "source": [
    "reliability_complete_matrices = (1 - df_complete_computations.query('CORRECTNESS == False').shape[0] / df_complete_computations.shape[0]) * 100\n",
    "print('{}%'.format(math.floor(reliability_complete_matrices)))"
   ]
  },
  {
   "cell_type": "markdown",
   "metadata": {},
   "source": [
    "Partial computations."
   ]
  },
  {
   "cell_type": "code",
   "execution_count": null,
   "metadata": {},
   "outputs": [],
   "source": [
    "reliability_partial_matrices = (1 - df_partial_computations.query('CORRECTNESS == False').shape[0] / df_partial_computations.shape[0]) * 100\n",
    "print('{}%'.format(math.floor(reliability_partial_matrices)))"
   ]
  },
  {
   "cell_type": "markdown",
   "metadata": {},
   "source": [
    "### Correct Matrices"
   ]
  },
  {
   "cell_type": "markdown",
   "metadata": {},
   "source": [
    "Number of correct and complete matrices."
   ]
  },
  {
   "cell_type": "code",
   "execution_count": null,
   "metadata": {},
   "outputs": [],
   "source": [
    "df_complete_computations.query('CORRECTNESS == True and TIME_KONG == TIME_KONG').shape[0]"
   ]
  },
  {
   "cell_type": "markdown",
   "metadata": {},
   "source": [
    "### Summary Table"
   ]
  },
  {
   "cell_type": "markdown",
   "metadata": {},
   "source": [
    "Computed matrices using Kong."
   ]
  },
  {
   "cell_type": "code",
   "execution_count": null,
   "metadata": {},
   "outputs": [],
   "source": [
    "computed_matrices_using_Kong = df_complete_computations.query('TIME_KONG == TIME_KONG').shape[0]\n",
    "computed_matrices_using_Kong"
   ]
  },
  {
   "cell_type": "markdown",
   "metadata": {},
   "source": [
    "Computed matrices using Caesar.BDD."
   ]
  },
  {
   "cell_type": "code",
   "execution_count": null,
   "metadata": {},
   "outputs": [],
   "source": [
    "computed_matrices_using_caesar = df_complete_computations.query('TIME_CAESAR == TIME_CAESAR').shape[0]\n",
    "computed_matrices_using_caesar"
   ]
  },
  {
   "cell_type": "code",
   "execution_count": null,
   "metadata": {},
   "outputs": [],
   "source": [
    "summary = {'Reliability': [reliability_complete_matrices, np.nan], 'Computed Matrices': [computed_matrices_using_Kong, computed_matrices_using_caesar]}\n",
    "pd.DataFrame(data=summary, index=['Kong', 'Caesar.BDD'])"
   ]
  },
  {
   "cell_type": "markdown",
   "metadata": {},
   "source": [
    "## Analysis"
   ]
  },
  {
   "cell_type": "markdown",
   "metadata": {},
   "source": [
    "### General Performance Overview"
   ]
  },
  {
   "cell_type": "code",
   "execution_count": null,
   "metadata": {},
   "outputs": [],
   "source": [
    "# Get computations with the corresponding reduction ratio\n",
    "df_computations_with_ratio = df_complete_computations.join(df_reductions.set_index('INSTANCE'), on='INSTANCE')"
   ]
  },
  {
   "cell_type": "code",
   "execution_count": null,
   "metadata": {},
   "outputs": [],
   "source": [
    "def information_per_reduction_range(ratio_min, ratio_max):\n",
    "    \"\"\" Return summary information for a given reduction range.\n",
    "    \"\"\"\n",
    "    df = df_computations_with_ratio.query('RATIO >= {} and RATIO < {}'.format(ratio_min, ratio_max))\n",
    "\n",
    "    reduction_range = '{}-{}%'.format(ratio_min, ratio_max)\n",
    "\n",
    "    number_instances = df[['INSTANCE']].shape[0]\n",
    "    \n",
    "    computed_matrices_using_Kong = df.query('TIME_KONG == TIME_KONG').shape[0]\n",
    "    computed_matrices_using_caesar = df.query('TIME_CAESAR == TIME_CAESAR').shape[0]\n",
    "    \n",
    "    gain = (1 - computed_matrices_using_caesar / computed_matrices_using_Kong) * 100\n",
    "    \n",
    "    return [reduction_range, number_instances, computed_matrices_using_Kong, computed_matrices_using_caesar, gain]"
   ]
  },
  {
   "cell_type": "markdown",
   "metadata": {},
   "source": [
    "Summary table."
   ]
  },
  {
   "cell_type": "code",
   "execution_count": null,
   "metadata": {},
   "outputs": [],
   "source": [
    "performance_overview = pd.DataFrame([information_per_reduction_range(ratio_min, ratio_max) for ratio_min, ratio_max in [[1,101], [1,25],[25, 50], [50, 101], [100,101]]], columns=['Reduction Ratio', 'Number of Instances', 'Computed Matrices using Kong', 'Computed Matrices using Caesar.bdd', 'Gain (%)'])\n",
    "performance_overview.set_index('Reduction Ratio')"
   ]
  },
  {
   "cell_type": "markdown",
   "metadata": {},
   "source": [
    "### Matrix Computation Times: With VS Without Reduction"
   ]
  },
  {
   "cell_type": "markdown",
   "metadata": {},
   "source": [
    "Comparison of the number of computed matrices in a limited time (900 seconds) between Kong and Caesar.BDD."
   ]
  },
  {
   "cell_type": "code",
   "execution_count": null,
   "metadata": {},
   "outputs": [],
   "source": [
    "df = df_complete_computations.join(df_reductions.set_index('INSTANCE'), on='INSTANCE')\n",
    "df = df.replace(0, 0.1)\n",
    "\n",
    "table = df.sort_index()"
   ]
  },
  {
   "cell_type": "code",
   "execution_count": null,
   "metadata": {},
   "outputs": [],
   "source": [
    "def draw_time_vs_matrices_figure(table, ratio_min):\n",
    "    \"\"\" Compare the number of computed matrices between Caesar.BDD and Kong for a given time limit.\n",
    "    \"\"\"\n",
    "    fontsize = 24\n",
    "\n",
    "    markers = {\"TIME_KONG\": \"s\", \"TIME_CAESAR\": \"o\"}\n",
    "    colors = {\"TIME_KONG\": \"tab:orange\", \"TIME_CAESAR\": \"tab:blue\"}\n",
    "    labels = {\"TIME_KONG\": \"Kong\", \"TIME_CAESAR\": \"Caesar.BDD\"}\n",
    "\n",
    "    plt.figure(figsize=(12, 10))\n",
    "\n",
    "    for tool in [\"TIME_CAESAR\", \"TIME_KONG\"]:\n",
    "        results = table.query('RATIO >= {}'.format(ratio_min))[tool].dropna().sort_values().reset_index(drop=True)\n",
    "        results.plot(label=labels[tool], color=colors[tool], linewidth=4, markersize=14, markevery=30)\n",
    "\n",
    "    plt.yscale('log')\n",
    "    plt.xticks(fontsize=fontsize)\n",
    "    plt.yticks(fontsize=fontsize)\n",
    "    ax = plt.gca()\n",
    "    ax.yaxis.set_major_formatter(ticker.FuncFormatter(lambda y, _: '{:g}'.format(y)))\n",
    "\n",
    "    plt.grid()\n",
    "    plt.legend(loc='upper left', fontsize=fontsize)\n",
    "    plt.xlabel('Number of computed queries', fontsize=fontsize)\n",
    "    plt.ylabel('Running time (s)', fontsize=fontsize)\n",
    "    plt.savefig(\"complete_matrices_ratio_min_{}.png\".format(ratio_min), bbox_inches='tight')\n",
    "    plt.show()"
   ]
  },
  {
   "cell_type": "code",
   "execution_count": null,
   "metadata": {},
   "outputs": [],
   "source": [
    "draw_time_vs_matrices_figure(table, 0)"
   ]
  },
  {
   "cell_type": "code",
   "execution_count": null,
   "metadata": {},
   "outputs": [],
   "source": [
    "draw_time_vs_matrices_figure(table, 50)"
   ]
  },
  {
   "cell_type": "code",
   "execution_count": null,
   "metadata": {},
   "outputs": [],
   "source": [
    "def matrix_computation_times(ratio_min, ratio_max):\n",
    "    \"\"\" Compare the matrix computation times with vs without reduction.\n",
    "    \"\"\"\n",
    "    fontsize = 23\n",
    "\n",
    "    # Get computed matrices for a given reduction range (remove instances that timeout using Kong and Caesar.BDD)\n",
    "    df = df_complete_computations.join(df_reductions.set_index('INSTANCE'), on='INSTANCE').query('RATIO >= {} and RATIO <= {} and (TIME_KONG == TIME_KONG or TIME_CAESAR == TIME_CAESAR)'.format(25, 49))\n",
    "    \n",
    "    # Replace timeout NaN values by the timeout value\n",
    "    df.loc[df.TIME_KONG != df.TIME_KONG, 'TIME_KONG'] = TIMEOUT\n",
    "    df.loc[df.TIME_CAESAR != df.TIME_CAESAR, 'TIME_CAESAR'] = TIMEOUT\n",
    "\n",
    "    # Replace 0 values by 0.1\n",
    "    df.loc[df.TIME_KONG == 0, 'TIME_KONG'] = 0.01\n",
    "    df.loc[df.TIME_CAESAR == 0, 'TIME_CAESAR'] = 0.01\n",
    "\n",
    "    # Get times using Kong and Caesar.BDD \n",
    "    x = df['TIME_CAESAR'].to_numpy()\n",
    "    y = df['TIME_KONG'].to_numpy()\n",
    "\n",
    "    # Plot time with vs without reduction with a log scale\n",
    "    plt.figure(figsize=(12,12))\n",
    "    ax = plt.gca()\n",
    "    plt.scatter(x=x, y=y, marker='+', s=100, color='orange')\n",
    "\n",
    "    df = df_complete_computations.join(df_reductions.set_index('INSTANCE'), on='INSTANCE').query('RATIO >= {} and RATIO <= {} and (TIME_KONG == TIME_KONG or TIME_CAESAR == TIME_CAESAR)'.format(50, 100))\n",
    "    \n",
    "    # Replace timeout NaN values by the timeout value\n",
    "    df.loc[df.TIME_KONG != df.TIME_KONG, 'TIME_KONG'] = TIMEOUT\n",
    "    df.loc[df.TIME_CAESAR != df.TIME_CAESAR, 'TIME_CAESAR'] = TIMEOUT\n",
    "\n",
    "    # Replace 0 values by 0.1\n",
    "    df.loc[df.TIME_KONG == 0, 'TIME_KONG'] = 0.01\n",
    "    df.loc[df.TIME_CAESAR == 0, 'TIME_CAESAR'] = 0.01\n",
    "\n",
    "    # Get times using Kong and Caesar.BDD \n",
    "    x = df['TIME_CAESAR'].to_numpy()\n",
    "    y = df['TIME_KONG'].to_numpy()\n",
    "    \n",
    "    plt.scatter(x=x, y=y, marker='+', s=100, color='blue')\n",
    "    \n",
    "    plt.plot(np.linspace(0.00, TIMEOUT), np.linspace(0.00, TIMEOUT), color='black', linestyle='--', lw=2, scalex=False, scaley=False)\n",
    "    plt.plot(np.linspace(0.00, TIMEOUT), 0.1 * np.linspace(0.00, TIMEOUT), color='black', linestyle=':', lw=2, scalex=False, scaley=False)\n",
    "    plt.plot(np.linspace(0.00, TIMEOUT), 0.01 * np.linspace(0.00, TIMEOUT), color='black', linestyle=':', lw=2, scalex=False, scaley=False)\n",
    "    ax.set_xscale('log')\n",
    "    ax.set_yscale('log')\n",
    "    plt.xticks(fontsize=fontsize)\n",
    "    plt.yticks(fontsize=fontsize)\n",
    "    plt.xlabel('Computation time using Caesar.bdd (without reduction) (s)', fontsize=fontsize)\n",
    "    plt.ylabel('Computation time using Kong (with reduction) (s)', fontsize=fontsize)\n",
    "    plt.savefig(\"pics/time_{}_{}.png\".format(ratio_min, ratio_max), bbox_inches = 'tight')\n",
    "    plt.show()"
   ]
  },
  {
   "cell_type": "code",
   "execution_count": null,
   "metadata": {},
   "outputs": [],
   "source": [
    "matrix_computation_times(25, 100)"
   ]
  },
  {
   "cell_type": "code",
   "execution_count": null,
   "metadata": {},
   "outputs": [],
   "source": [
    "matrix_computation_times(50, 100)"
   ]
  },
  {
   "cell_type": "markdown",
   "metadata": {},
   "source": [
    "### Partial Concurrency Matrices: With VS Without Reduction"
   ]
  },
  {
   "cell_type": "code",
   "execution_count": null,
   "metadata": {},
   "outputs": [],
   "source": [
    "# Drop instances that take more than 600 seconds using Kong or Caesar.BDD (outliers).\n",
    "df_partial_computations_without_outliers = df_partial_computations.query('TIME_KONG < 600 and TIME_CAESAR < 600')"
   ]
  },
  {
   "cell_type": "markdown",
   "metadata": {},
   "source": [
    "Comparison of the filling ratio with and without reduction (60 seconds of timeout for the BDD exploration)."
   ]
  },
  {
   "cell_type": "code",
   "execution_count": null,
   "metadata": {},
   "outputs": [],
   "source": [
    "def filling_ratio(ratio_min, ratio_max):\n",
    "    \"\"\" Plot the filling ratio of the matrices with vs without reduction.\n",
    "    \"\"\"\n",
    "    fontsize = 23\n",
    "\n",
    "    # Get computed relations for a given reduction range (remove instances that timeout or that are fully computed with both tools)\n",
    "    df = df_partial_computations_without_outliers.join(df_reductions.set_index('INSTANCE'), on='INSTANCE').query('RATIO >= {} and RATIO <= {} and (NUMBER_RELATIONS_KONG > 0 or NUMBER_RELATIONS_CAESAR > 0) and (NUMBER_RELATIONS_KONG < RELATION_SIZE or NUMBER_RELATIONS_CAESAR < RELATION_SIZE)'.format(50, 100))\n",
    "    \n",
    "    # Get filling ratios using Kong and Caesar.BDD\n",
    "    x = 100 * df['NUMBER_RELATIONS_CAESAR'].to_numpy() / df['RELATION_SIZE'].to_numpy()\n",
    "    y = 100 * df['NUMBER_RELATIONS_KONG'].to_numpy() / df['RELATION_SIZE'].to_numpy()\n",
    "\n",
    "    # Plot ratios with vs without reduction\n",
    "    plt.figure(figsize=(12,12))\n",
    "    ax = plt.gca()\n",
    "    ax.set_aspect('equal')\n",
    "    plt.scatter(x=x, y=y, marker='+', linewidths=3, s=150, color='tab:blue')  \n",
    "\n",
    "    # Get computed relations for a given reduction range (remove instances that timeout or that are fully computed with both tools)\n",
    "    df = df_partial_computations_without_outliers.join(df_reductions.set_index('INSTANCE'), on='INSTANCE').query('RATIO >= {} and RATIO <= {} and (NUMBER_RELATIONS_KONG > 0 or NUMBER_RELATIONS_CAESAR > 0) and (NUMBER_RELATIONS_KONG < RELATION_SIZE or NUMBER_RELATIONS_CAESAR < RELATION_SIZE)'.format(25, 49))\n",
    "    \n",
    "    # Get filling ratios using Kong and Caesar.BDD\n",
    "    x = 100 * df['NUMBER_RELATIONS_CAESAR'].to_numpy() / df['RELATION_SIZE'].to_numpy()\n",
    "    y = 100 * df['NUMBER_RELATIONS_KONG'].to_numpy() / df['RELATION_SIZE'].to_numpy()\n",
    "    \n",
    "    plt.scatter(x=x, y=y, marker='+', linewidths=3, s=150, color='tab:orange')  \n",
    "    ## To remove end\n",
    "    plt.plot(np.linspace(0, 100), np.linspace(0, 100), color='gray', linestyle='--', lw=2, scalex=False, scaley=False)\n",
    "    plt.grid()\n",
    "    plt.xlim(-5,105)\n",
    "    plt.ylim(-5,105)\n",
    "    plt.xticks(fontsize=fontsize)\n",
    "    plt.yticks(fontsize=fontsize)\n",
    "    plt.xlabel('Filling ratio using Caesar.bdd (without reduction) (%)', fontsize=fontsize)\n",
    "    plt.ylabel('Filling ratio using Kong (with reduction) (%)', fontsize=fontsize)\n",
    "    plt.savefig(\"pics/filling_ratio_{}_{}.png\".format(ratio_min, ratio_max), bbox_inches = 'tight')\n",
    "    plt.show()"
   ]
  },
  {
   "cell_type": "code",
   "execution_count": null,
   "metadata": {},
   "outputs": [],
   "source": [
    "filling_ratio(25, 100)"
   ]
  },
  {
   "cell_type": "markdown",
   "metadata": {},
   "source": [
    "Median computation time per instance with Kong."
   ]
  },
  {
   "cell_type": "code",
   "execution_count": null,
   "metadata": {},
   "outputs": [],
   "source": [
    "df_partial_computations_without_outliers['TIME_KONG'].median()"
   ]
  },
  {
   "cell_type": "markdown",
   "metadata": {},
   "source": [
    "Mean computation time per instance with Kong."
   ]
  },
  {
   "cell_type": "code",
   "execution_count": null,
   "metadata": {},
   "outputs": [],
   "source": [
    "df_partial_computations_without_outliers['TIME_KONG'].mean()"
   ]
  },
  {
   "cell_type": "markdown",
   "metadata": {},
   "source": [
    "Median computation time per instance with Caesar.BDD."
   ]
  },
  {
   "cell_type": "code",
   "execution_count": null,
   "metadata": {},
   "outputs": [],
   "source": [
    "df_partial_computations_without_outliers['TIME_CAESAR'].median()"
   ]
  },
  {
   "cell_type": "markdown",
   "metadata": {},
   "source": [
    "Median computation time per instance with Caesar.BDD."
   ]
  },
  {
   "cell_type": "code",
   "execution_count": null,
   "metadata": {},
   "outputs": [],
   "source": [
    "df_partial_computations_without_outliers['TIME_CAESAR'].mean()"
   ]
  },
  {
   "cell_type": "markdown",
   "metadata": {},
   "source": [
    "### Concurrent and Independent Places: With vs Without Reduction"
   ]
  },
  {
   "cell_type": "markdown",
   "metadata": {},
   "source": [
    "Comparison of the filling ratio for concurrent places and independent places (independently) with vs without reduction."
   ]
  },
  {
   "cell_type": "code",
   "execution_count": null,
   "metadata": {},
   "outputs": [],
   "source": [
    "def concurrent_and_independant_places_filling_ratio(ratio_min, ratio_max):\n",
    "    \"\"\" Compare the filling ratio for concurrent and independent places with vs without reduction.\n",
    "    \"\"\"\n",
    "    fontsize = 23\n",
    "\n",
    "    # Get computed relations for a given reduction range (remove instances that timeout or that are fully computed with both tools)\n",
    "    df = df_partial_computations_without_outliers.drop(['RELATION_SIZE', 'TIME_KONG', 'TIME_CAESAR', 'CORRECTNESS'], axis=1).join(df_reductions.set_index('INSTANCE'), on='INSTANCE').join(df_complete_computations.drop(['TIME_KONG', 'TIME_CAESAR', 'CORRECTNESS'], axis=1).set_index('INSTANCE'), on='INSTANCE').query('RATIO >= {} and RATIO <= {} and RELATION_SIZE > 0 and (NUMBER_RELATIONS_KONG > 0 or NUMBER_RELATIONS_CAESAR > 0) and (NUMBER_RELATIONS_KONG < RELATION_SIZE or NUMBER_RELATIONS_CAESAR < RELATION_SIZE)'.format(ratio_min, ratio_max))\n",
    "\n",
    "    # Get filling ratios for concurrent places ('1') using Kong and Caesar.BDD\n",
    "    x = 100 * df['CONCURRENT_PLACES_CAESAR'].to_numpy() / df['CONCURRENT_PLACES'].to_numpy()\n",
    "    y = 100 * df['CONCURRENT_PLACES_KONG'].to_numpy() / df['CONCURRENT_PLACES'].to_numpy()\n",
    "\n",
    "    # Plot ratios with vs without reduction\n",
    "    plt.figure(figsize=(12,12))\n",
    "    ax = plt.gca()\n",
    "    plt.scatter(x=x, y=y, marker='+', linewidths=3, s=150)  \n",
    "    plt.plot(np.linspace(0, 500), np.linspace(0, 500), color='black', linestyle='--', lw=2, scalex=False, scaley=False)\n",
    "    plt.xlim(-0.1,101)\n",
    "    plt.ylim(-0.1,101)\n",
    "    plt.xticks(fontsize=fontsize)\n",
    "    plt.yticks(fontsize=fontsize)\n",
    "    plt.xlabel('Filling ratio of the concurrent places without reduction (%)', fontsize=fontsize)\n",
    "    plt.ylabel('Filling ratio of the concurrent places with reduction (%)', fontsize=fontsize)\n",
    "    plt.savefig(\"pics/concurrent_places_{}_{}.png\".format(ratio_min, ratio_max), bbox_inches = 'tight')\n",
    "    plt.show()\n",
    "\n",
    "    # Get filling ratios for independent places ('0') using Kong and Caesar.BDD\n",
    "    x = 100 * (df['NUMBER_RELATIONS_CAESAR'].to_numpy() - df['CONCURRENT_PLACES_CAESAR'].to_numpy()) / (df['RELATION_SIZE'].to_numpy() - df['CONCURRENT_PLACES'].to_numpy())\n",
    "    y = 100 * (df['NUMBER_RELATIONS_KONG'].to_numpy() - df['CONCURRENT_PLACES_KONG'].to_numpy()) / (df['RELATION_SIZE'].to_numpy() - df['CONCURRENT_PLACES'].to_numpy())\n",
    "\n",
    "    # Plot filling ratios with vs without reduction\n",
    "    plt.figure(figsize=(12,12))\n",
    "    ax = plt.gca()\n",
    "    plt.scatter(x=x, y=y, marker='+', linewidths=3, s=150)  \n",
    "    plt.plot(np.linspace(0, 500), np.linspace(0, 500), color='black', linestyle='--', lw=2, scalex=False, scaley=False)\n",
    "    plt.xlim(-0.1,101)\n",
    "    plt.ylim(-0.1,101)\n",
    "    plt.xticks(fontsize=fontsize)\n",
    "    plt.yticks(fontsize=fontsize)\n",
    "    plt.xlabel('Filling ratio of the independent places without reduction (%)', fontsize=fontsize)\n",
    "    plt.ylabel('Filling ratio of the independent places with reduction (%)', fontsize=fontsize)\n",
    "    plt.savefig(\"pics/independent_places_{}_{}.png\".format(ratio_min, ratio_max), bbox_inches = 'tight')\n",
    "    plt.show()"
   ]
  },
  {
   "cell_type": "code",
   "execution_count": null,
   "metadata": {},
   "outputs": [],
   "source": [
    "concurrent_and_independant_places_filling_ratio(25, 100)"
   ]
  }
 ],
 "metadata": {
  "kernelspec": {
   "display_name": "Python 3 (ipykernel)",
   "language": "python",
   "name": "python3"
  },
  "language_info": {
   "codemirror_mode": {
    "name": "ipython",
    "version": 3
   },
   "file_extension": ".py",
   "mimetype": "text/x-python",
   "name": "python",
   "nbconvert_exporter": "python",
   "pygments_lexer": "ipython3",
   "version": "3.10.4"
  }
 },
 "nbformat": 4,
 "nbformat_minor": 4
}
