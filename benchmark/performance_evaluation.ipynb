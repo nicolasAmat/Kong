{
 "cells": [
  {
   "cell_type": "markdown",
   "metadata": {},
   "source": [
    "# Kong: Performance Evaluation"
   ]
  },
  {
   "cell_type": "markdown",
   "metadata": {},
   "source": [
    "In this notebook, we report on some experimental results obtained with Kong."
   ]
  },
  {
   "cell_type": "markdown",
   "metadata": {},
   "source": [
    "### Setup Analysis"
   ]
  },
  {
   "cell_type": "markdown",
   "metadata": {},
   "source": [
    "Import librairies."
   ]
  },
  {
   "cell_type": "code",
   "execution_count": null,
   "metadata": {},
   "outputs": [],
   "source": [
    "%matplotlib inline\n",
    "\n",
    "import math\n",
    "import matplotlib.pyplot as plt\n",
    "import matplotlib as mpl\n",
    "import numpy as np\n",
    "import pandas as pd"
   ]
  },
  {
   "cell_type": "markdown",
   "metadata": {},
   "source": [
    "Path to data."
   ]
  },
  {
   "cell_type": "code",
   "execution_count": null,
   "metadata": {},
   "outputs": [],
   "source": [
    "path_data = 'OUTPUTS/'"
   ]
  },
  {
   "cell_type": "markdown",
   "metadata": {},
   "source": [
    "Settings."
   ]
  },
  {
   "cell_type": "code",
   "execution_count": null,
   "metadata": {},
   "outputs": [],
   "source": [
    "TIMEOUT = 3600"
   ]
  },
  {
   "cell_type": "markdown",
   "metadata": {},
   "source": [
    "## Load Data"
   ]
  },
  {
   "cell_type": "markdown",
   "metadata": {},
   "source": [
    "Reductions data frame."
   ]
  },
  {
   "cell_type": "code",
   "execution_count": null,
   "metadata": {},
   "outputs": [],
   "source": [
    "# Read 'reductions.csv'\n",
    "df_reductions = pd.read_csv(path_data + 'reductions.csv')\n",
    "df_reductions"
   ]
  },
  {
   "cell_type": "markdown",
   "metadata": {},
   "source": [
    "Complete matrix computations data frame (global timeout of 3,600 seconds)."
   ]
  },
  {
   "cell_type": "code",
   "execution_count": null,
   "metadata": {},
   "outputs": [],
   "source": [
    "# Read 'complete_computations.csv'\n",
    "df_complete_computations = pd.read_csv(path_data + 'complete_computations.csv')\n",
    "df_complete_computations"
   ]
  },
  {
   "cell_type": "markdown",
   "metadata": {},
   "source": [
    "Partial matrix computations data frame (timeout of 60 seconds for the BDD exploration and global timeout of 3,600 seconds)."
   ]
  },
  {
   "cell_type": "code",
   "execution_count": null,
   "metadata": {},
   "outputs": [],
   "source": [
    "# Read 'partial_computations.csv'\n",
    "df_partial_computations = pd.read_csv(path_data + 'partial_computations.csv')\n",
    "df_partial_computations"
   ]
  },
  {
   "cell_type": "markdown",
   "metadata": {},
   "source": [
    "## Tool Confidence rate"
   ]
  },
  {
   "cell_type": "markdown",
   "metadata": {},
   "source": [
    "### Reliability"
   ]
  },
  {
   "cell_type": "markdown",
   "metadata": {},
   "source": [
    "Complete matrices."
   ]
  },
  {
   "cell_type": "code",
   "execution_count": null,
   "metadata": {},
   "outputs": [],
   "source": [
    "reliability_complete_matrices = (1 - df_complete_computations.query('CORRECTNESS == False').shape[0] / df_complete_computations.shape[0]) * 100\n",
    "print('{}%'.format(math.floor(reliability_complete_matrices)))"
   ]
  },
  {
   "cell_type": "markdown",
   "metadata": {},
   "source": [
    "Partial matrices."
   ]
  },
  {
   "cell_type": "code",
   "execution_count": null,
   "metadata": {},
   "outputs": [],
   "source": [
    "reliability_partial_matrices = (1 - df_partial_computations.query('CORRECTNESS == False').shape[0] / df_partial_computations.shape[0]) * 100\n",
    "print('{}%'.format(math.floor(reliability_partial_matrices)))"
   ]
  },
  {
   "cell_type": "markdown",
   "metadata": {},
   "source": [
    "### Correct Matrices"
   ]
  },
  {
   "cell_type": "markdown",
   "metadata": {},
   "source": [
    "Number of correct and complete matrices."
   ]
  },
  {
   "cell_type": "code",
   "execution_count": null,
   "metadata": {},
   "outputs": [],
   "source": [
    "df_complete_computations.query('CORRECTNESS == True and TIME_KONG == TIME_KONG').shape[0]"
   ]
  },
  {
   "cell_type": "markdown",
   "metadata": {},
   "source": [
    "### Summary Table"
   ]
  },
  {
   "cell_type": "markdown",
   "metadata": {},
   "source": [
    "Computed matrices using Kong."
   ]
  },
  {
   "cell_type": "code",
   "execution_count": null,
   "metadata": {},
   "outputs": [],
   "source": [
    "computed_matrices_using_Kong = df_complete_computations.query('TIME_KONG == TIME_KONG').shape[0]\n",
    "computed_matrices_using_Kong"
   ]
  },
  {
   "cell_type": "markdown",
   "metadata": {},
   "source": [
    "Computed matrices using caesar.bdd."
   ]
  },
  {
   "cell_type": "code",
   "execution_count": null,
   "metadata": {},
   "outputs": [],
   "source": [
    "computed_matrices_using_caesar = df_complete_computations.query('TIME_CAESAR == TIME_CAESAR').shape[0]\n",
    "computed_matrices_using_caesar"
   ]
  },
  {
   "cell_type": "code",
   "execution_count": null,
   "metadata": {},
   "outputs": [],
   "source": [
    "summary = {'Reliability': [reliability_complete_matrices, np.nan], 'Computed Matrices': [computed_matrices_using_Kong, computed_matrices_using_caesar]}\n",
    "pd.DataFrame(data=summary, index=['Kong', 'Caesar'])"
   ]
  },
  {
   "cell_type": "markdown",
   "metadata": {},
   "source": [
    "## Analysis"
   ]
  },
  {
   "cell_type": "markdown",
   "metadata": {},
   "source": [
    "Performance evalutation of the *polyhedral abstraction* approach."
   ]
  },
  {
   "cell_type": "markdown",
   "metadata": {},
   "source": [
    "### Reduction Ratio "
   ]
  },
  {
   "cell_type": "markdown",
   "metadata": {},
   "source": [
    "Reduction ratio among instances."
   ]
  },
  {
   "cell_type": "code",
   "execution_count": null,
   "metadata": {},
   "outputs": [],
   "source": [
    "# Count instances with the same reduction ratio\n",
    "ratio_frequency = df_reductions['RATIO'].value_counts().sort_index(ascending=False)\n",
    "\n",
    "# Cumulative data frame\n",
    "df_ratio_frequency = pd.DataFrame({'INSTANCES': ratio_frequency.values}).cumsum()\n",
    "df_ratio_frequency['RATIO'] = ratio_frequency.index\n",
    "\n",
    "# Add row '0'\n",
    "df_first_row = pd.DataFrame([{'INSTANCES': 1, 'RATIO': df_ratio_frequency['RATIO'][0]}])\n",
    "df_ratio_frequency = pd.concat([df_first_row, df_ratio_frequency])\n",
    "\n",
    "# Draw instances reduction ratio\n",
    "df_ratio_frequency.plot.area(x='INSTANCES', xlim=(0,df_reductions.shape[0]), ylim=(0,100), color='cornflowerblue', figsize=(13,3), legend='')\n",
    "plt.xlabel('Number of instances', fontsize=13)\n",
    "plt.ylabel('Reduction ratio (%)', fontsize=13)\n",
    "plt.savefig('reductions.png', bbox_inches = 'tight')\n",
    "plt.show()"
   ]
  },
  {
   "cell_type": "markdown",
   "metadata": {},
   "source": [
    "### General Performance Overview"
   ]
  },
  {
   "cell_type": "code",
   "execution_count": null,
   "metadata": {},
   "outputs": [],
   "source": [
    "# Get computations with the corresponding reduction ratio\n",
    "df_computations_with_ratio = df_complete_computations.join(df_reductions.set_index('INSTANCE'), on='INSTANCE')"
   ]
  },
  {
   "cell_type": "markdown",
   "metadata": {},
   "source": [
    "Median reduction time."
   ]
  },
  {
   "cell_type": "code",
   "execution_count": null,
   "metadata": {},
   "outputs": [],
   "source": [
    "df_computations_with_ratio['TIME'].median()"
   ]
  },
  {
   "cell_type": "markdown",
   "metadata": {},
   "source": [
    "Mean reduction time."
   ]
  },
  {
   "cell_type": "code",
   "execution_count": null,
   "metadata": {},
   "outputs": [],
   "source": [
    "df_computations_with_ratio['TIME'].mean()"
   ]
  },
  {
   "cell_type": "code",
   "execution_count": null,
   "metadata": {},
   "outputs": [],
   "source": [
    "def information_per_reduction_range(ratio_min, ratio_max):\n",
    "    \"\"\" Return summary information for a given reduction range.\n",
    "    \"\"\"\n",
    "    df = df_computations_with_ratio.query('RATIO >= {} and RATIO <= {}'.format(ratio_min, ratio_max))\n",
    "\n",
    "    reduction_range = '{}-{}%'.format(ratio_min, ratio_max)\n",
    "\n",
    "    number_instances = df[['INSTANCE']].drop_duplicates().shape[0]\n",
    "    computed_matrices_using_Kong = df.query('TIME_KONG == TIME_KONG').shape[0]\n",
    "    computed_matrices_using_caesar = df.query('TIME_CAESAR == TIME_CAESAR').shape[0]\n",
    "    gain = (1 - computed_matrices_using_caesar / computed_matrices_using_Kong) * 100\n",
    "\n",
    "    return [reduction_range, number_instances, computed_matrices_using_Kong, computed_matrices_using_caesar, gain]"
   ]
  },
  {
   "cell_type": "markdown",
   "metadata": {},
   "source": [
    "Summary table."
   ]
  },
  {
   "cell_type": "code",
   "execution_count": null,
   "metadata": {},
   "outputs": [],
   "source": [
    "performance_overview = pd.DataFrame([information_per_reduction_range(ratio_min, ratio_max) for ratio_min, ratio_max in [[30, 100], [30, 70], [60, 99], [100,100]]], columns=['Reduction Ratio', 'Number of Instances', 'Computed Matrices using Kong', 'Computed Matrices using Caesar.bdd', 'Gain (%)'])\n",
    "performance_overview.set_index('Reduction Ratio')"
   ]
  },
  {
   "cell_type": "markdown",
   "metadata": {},
   "source": [
    "### Matrix Computation Times: With VS Without Reduction"
   ]
  },
  {
   "cell_type": "markdown",
   "metadata": {},
   "source": [
    "Comparison of the number of computed matrices in a limited time (3,600 seconds) between Kong and caesar.bdd."
   ]
  },
  {
   "cell_type": "code",
   "execution_count": null,
   "metadata": {},
   "outputs": [],
   "source": [
    "def matrix_computation_times(ratio_min, ratio_max):\n",
    "    \"\"\" Plot matrix computation times with vs without reduction.\n",
    "    \"\"\"\n",
    "    # Get computed matrices for a given reduction range (remove instances that timeout using Kong and caesar.bdd)\n",
    "    df = df_complete_computations.join(df_reductions.set_index('INSTANCE'), on='INSTANCE').query('RATIO >= {} and RATIO <= {} and (TIME_KONG == TIME_KONG or TIME_CAESAR == TIME_CAESAR)'.format(ratio_min, ratio_max))\n",
    "    \n",
    "    # Replace timeout NaN values by the timeout value\n",
    "    df.loc[df.TIME_KONG != df.TIME_KONG, 'TIME_KONG'] = TIMEOUT\n",
    "    df.loc[df.TIME_CAESAR != df.TIME_CAESAR, 'TIME_CAESAR'] = TIMEOUT\n",
    "\n",
    "    # Replace 0 values by 0.1\n",
    "    df.loc[df.TIME_KONG == 0, 'TIME_KONG'] = 0.01\n",
    "    df.loc[df.TIME_CAESAR == 0, 'TIME_CAESAR'] = 0.01\n",
    "\n",
    "    # Get times using Kong and caesar \n",
    "    x = df['TIME_CAESAR'].to_numpy()\n",
    "    y = df['TIME_KONG'].to_numpy()\n",
    "     \n",
    "    # Plot time with vs without reduction with a log scale\n",
    "    plt.figure(figsize=(8,8))\n",
    "    ax = plt.gca()\n",
    "    plt.scatter(x=x, y=y, marker='+', s=100)  \n",
    "    plt.plot(np.linspace(0.00, TIMEOUT), np.linspace(0.00, TIMEOUT), color='black', linestyle='--', lw=2, scalex=False, scaley=False)\n",
    "    plt.plot(np.linspace(0.00, TIMEOUT), 0.1 * np.linspace(0.00, TIMEOUT), color='orange', linestyle=':', lw=2, scalex=False, scaley=False)\n",
    "    plt.plot(np.linspace(0.00, TIMEOUT), 0.01 * np.linspace(0.00, TIMEOUT), color='red', linestyle=':', lw=2, scalex=False, scaley=False)\n",
    "    ax.set_xscale('log')\n",
    "    ax.set_yscale('log')\n",
    "    plt.xlabel('Computation time without reduction (s)', fontsize=13)\n",
    "    plt.ylabel('Computation time with reduction (s)', fontsize=13)\n",
    "    plt.savefig(\"time_{}_{}.png\".format(ratio_min, ratio_max), bbox_inches = 'tight')\n",
    "    plt.show()\n",
    "\n",
    "    # Plot the number of instances and the number of computed matrices with and without reduction\n",
    "    plt.figure(figsize=(1,8))\n",
    "    plt.bar([0], [df_complete_computations.join(df_reductions.set_index('INSTANCE'), on='INSTANCE').query('RATIO >= {} and RATIO <= {}'.format(ratio_min, ratio_max)).shape[0]], color='orange', label='All instances')\n",
    "    plt.bar([0], [df_complete_computations.join(df_reductions.set_index('INSTANCE'), on='INSTANCE').query('RATIO >= {} and RATIO <= {} and TIME_KONG < {}'.format(ratio_min, ratio_max, TIMEOUT)).shape[0]], label='Computed matrices with reduction')\n",
    "    plt.bar([0], [df_complete_computations.join(df_reductions.set_index('INSTANCE'), on='INSTANCE').query('RATIO >= {} and RATIO <= {} and TIME_CAESAR < {}'.format(ratio_min, ratio_max, TIMEOUT)).shape[0]], color='cyan', label='Computed matrices without reduction')\n",
    "    plt.legend(loc='upper left', fontsize=13)\n",
    "    ax = plt.gca()\n",
    "    ax.axes.xaxis.set_visible(False)\n",
    "    plt.xlim([0, 0.1])\n",
    "    plt.savefig(\"bar_{}_{}.png\".format(ratio_min, ratio_max), bbox_inches = 'tight')\n",
    "    plt.show()"
   ]
  },
  {
   "cell_type": "code",
   "execution_count": null,
   "metadata": {},
   "outputs": [],
   "source": [
    "matrix_computation_times(50, 100)"
   ]
  },
  {
   "cell_type": "markdown",
   "metadata": {},
   "source": [
    "### Partial Concurrency Matrices: With VS Without Reduction"
   ]
  },
  {
   "cell_type": "code",
   "execution_count": null,
   "metadata": {},
   "outputs": [],
   "source": [
    "# Drop instances that take more than 1000 seconds using Kong or caesar.bdd (outliers).\n",
    "df_partial_computations_without_outliers = df_partial_computations.query('TIME_KONG < 1000 and TIME_CAESAR < 1000')"
   ]
  },
  {
   "cell_type": "markdown",
   "metadata": {},
   "source": [
    "Comparison of the filling ratio with and without reduction (60 seconds of timeout for the BDD exploration)."
   ]
  },
  {
   "cell_type": "code",
   "execution_count": null,
   "metadata": {},
   "outputs": [],
   "source": [
    "def filling_ratio(ratio_min, ratio_max):\n",
    "    \"\"\" Plot the filling ratio of the matrices with vs without reduction.\n",
    "    \"\"\"\n",
    "    # Get computed relations for a given reduction range (remove instances that timeout or that are fully computed with both tools)\n",
    "    df = df_partial_computations_without_outliers.join(df_reductions.set_index('INSTANCE'), on='INSTANCE').query('RATIO >= {} and RATIO <= {} and (NUMBER_RELATIONS_KONG > 0 or NUMBER_RELATIONS_CAESAR > 0) and (NUMBER_RELATIONS_KONG < RELATION_SIZE or NUMBER_RELATIONS_CAESAR < RELATION_SIZE)'.format(ratio_min, ratio_max))\n",
    "    \n",
    "    # Get filling ratios using Kong and caesar.bdd\n",
    "    x = 100 * df['NUMBER_RELATIONS_CAESAR'].to_numpy() / df['RELATION_SIZE'].to_numpy()\n",
    "    y = 100 * df['NUMBER_RELATIONS_KONG'].to_numpy() / df['RELATION_SIZE'].to_numpy()\n",
    "\n",
    "    # Plot ratios with vs without reduction\n",
    "    plt.figure(figsize=(8,8))\n",
    "    ax = plt.gca()\n",
    "    plt.scatter(x=x, y=y, marker='+', s=100)  \n",
    "    plt.plot(np.linspace(0, 500), np.linspace(0, 500), color='black', linestyle='--', lw=2, scalex=False, scaley=False)\n",
    "    plt.xlim(-0.1,101)\n",
    "    plt.ylim(-0.1,101)\n",
    "    plt.xlabel('Filling ratio of the matrix without reduction (%)', fontsize=13)\n",
    "    plt.ylabel('Filling ratio of the matrix with reduction (%)', fontsize=13)\n",
    "    plt.savefig(\"filling_ratio{}_{}.png\".format(ratio_min, ratio_max), bbox_inches = 'tight')\n",
    "    plt.show()"
   ]
  },
  {
   "cell_type": "code",
   "execution_count": null,
   "metadata": {},
   "outputs": [],
   "source": [
    "filling_ratio(50, 100)"
   ]
  },
  {
   "cell_type": "markdown",
   "metadata": {},
   "source": [
    "Median computation time per instance with Kong."
   ]
  },
  {
   "cell_type": "code",
   "execution_count": null,
   "metadata": {},
   "outputs": [],
   "source": [
    "df_partial_computations_without_outliers['TIME_KONG'].median()"
   ]
  },
  {
   "cell_type": "markdown",
   "metadata": {},
   "source": [
    "Mean computation time per instance with Kong."
   ]
  },
  {
   "cell_type": "code",
   "execution_count": null,
   "metadata": {},
   "outputs": [],
   "source": [
    "df_partial_computations_without_outliers['TIME_KONG'].mean()"
   ]
  },
  {
   "cell_type": "markdown",
   "metadata": {},
   "source": [
    "Median computation time per instance with caesar.bdd."
   ]
  },
  {
   "cell_type": "code",
   "execution_count": null,
   "metadata": {},
   "outputs": [],
   "source": [
    "df_partial_computations_without_outliers['TIME_CAESAR'].median()"
   ]
  },
  {
   "cell_type": "markdown",
   "metadata": {},
   "source": [
    "Median computation time per instance with caesar.bdd."
   ]
  },
  {
   "cell_type": "code",
   "execution_count": null,
   "metadata": {},
   "outputs": [],
   "source": [
    "df_partial_computations_without_outliers['TIME_CAESAR'].mean()"
   ]
  },
  {
   "cell_type": "markdown",
   "metadata": {},
   "source": [
    "Total computation times per instance between Kong and caesar.bdd."
   ]
  },
  {
   "cell_type": "code",
   "execution_count": null,
   "metadata": {},
   "outputs": [],
   "source": [
    "def partial_computation_times(ratio_min, ratio_max):\n",
    "    \"\"\" Plot computation times for partial matrices with vs without reduction.\n",
    "    \"\"\"\n",
    "    # Get computed relations for a given reduction range\n",
    "    df = df_partial_computations.join(df_reductions.set_index('INSTANCE'), on='INSTANCE').query('RATIO >= {} and RATIO <= {}'.format(ratio_min, ratio_max)).sort_values(['TIME_CAESAR', 'TIME_KONG'])\n",
    "    \n",
    "    # Replace NaN values by timeout value\n",
    "    df.loc[df.TIME_KONG != df.TIME_KONG, 'TIME_KONG'] = TIMEOUT\n",
    "    df.loc[df.TIME_CAESAR != df.TIME_CAESAR, 'TIME_CAESAR'] = TIMEOUT\n",
    "\n",
    "    # Ignore instances that timeout using both tools\n",
    "    df = df.query('TIME_KONG < {} or TIME_CAESAR < {}'.format(TIMEOUT, TIMEOUT))\n",
    "    \n",
    "    # Get computations times\n",
    "    time_kong = df['TIME_KONG'].to_numpy()\n",
    "    time_caesar = df['TIME_CAESAR'].to_numpy()\n",
    "\n",
    "    # Plot times\n",
    "    plt.figure(figsize=(10,4))\n",
    "    plt.plot(time_caesar)\n",
    "    plt.plot(time_kong)\n",
    "    plt.xlabel('Instances', fontsize=13)\n",
    "    plt.ylabel('Computation time (s)', fontsize=13)\n",
    "    plt.savefig(\"partial_computation_times_{}_{}.png\".format(ratio_min, ratio_max), bbox_inches = 'tight')\n",
    "    plt.show()"
   ]
  },
  {
   "cell_type": "code",
   "execution_count": null,
   "metadata": {},
   "outputs": [],
   "source": [
    "partial_computation_times(50,100)"
   ]
  },
  {
   "cell_type": "markdown",
   "metadata": {},
   "source": [
    "### Concurrent and Independent Places: With vs Without Reduction"
   ]
  },
  {
   "cell_type": "markdown",
   "metadata": {},
   "source": [
    "Comparison of the filling ratio for concurrent places and independent places (independently) with vs without reduction."
   ]
  },
  {
   "cell_type": "code",
   "execution_count": null,
   "metadata": {},
   "outputs": [],
   "source": [
    "def concurrent_and_independant_places_filling_ratio(ratio_min, ratio_max):\n",
    "    \"\"\" Plot the filling ratio for concurrent and independent places with vs without reduction.\n",
    "    \"\"\"\n",
    "    # Get computed relations for a given reduction range (remove instances that timeout or that are fully computed with both tools)\n",
    "    df = df_partial_computations_without_outliers.drop(['RELATION_SIZE', 'TIME_KONG', 'TIME_CAESAR', 'CORRECTNESS'], axis=1).join(df_reductions.drop(['TIME'], axis=1).set_index('INSTANCE'), on='INSTANCE').join(df_complete_computations.drop(['TIME_KONG', 'TIME_CAESAR', 'CORRECTNESS'], axis=1).set_index('INSTANCE'), on='INSTANCE').query('RATIO >= {} and RATIO <= {} and RELATION_SIZE > 0 and (NUMBER_RELATIONS_KONG > 0 or NUMBER_RELATIONS_CAESAR > 0) and (NUMBER_RELATIONS_KONG < RELATION_SIZE or NUMBER_RELATIONS_CAESAR < RELATION_SIZE)'.format(ratio_min, ratio_max))\n",
    "\n",
    "    # Get filling ratios for concurrent places ('1') using Kong and caesar.bdd\n",
    "    x = 100 * df['CONCURRENT_PLACES_CAESAR'].to_numpy() / df['CONCURRENT_PLACES'].to_numpy()\n",
    "    y = 100 * df['CONCURRENT_PLACES_KONG'].to_numpy() / df['CONCURRENT_PLACES'].to_numpy()\n",
    "\n",
    "    # Plot ratios with vs without reduction\n",
    "    plt.figure(figsize=(8,8))\n",
    "    ax = plt.gca()\n",
    "    plt.scatter(x=x, y=y, marker='+', s=100)  \n",
    "    plt.plot(np.linspace(0, 500), np.linspace(0, 500), color='black', linestyle='--', lw=2, scalex=False, scaley=False)\n",
    "    plt.xlim(-0.1,101)\n",
    "    plt.ylim(-0.1,101)\n",
    "    plt.xlabel('Filling ratio of the concurrent places without reduction (%)', fontsize=13)\n",
    "    plt.ylabel('Filling ratio of the concurrent places with reduction (%)', fontsize=13)\n",
    "    plt.savefig(\"concurrent_places_{}_{}.png\".format(ratio_min, ratio_max), bbox_inches = 'tight')\n",
    "    plt.show()\n",
    "\n",
    "    # Get filling ratios for independent places ('0') using Kong and caesar.bdd\n",
    "    x = 100 * (df['NUMBER_RELATIONS_CAESAR'].to_numpy() - df['CONCURRENT_PLACES_CAESAR'].to_numpy()) / (df['RELATION_SIZE'].to_numpy() - df['CONCURRENT_PLACES'].to_numpy())\n",
    "    y = 100 * (df['NUMBER_RELATIONS_KONG'].to_numpy() - df['CONCURRENT_PLACES_KONG'].to_numpy()) / (df['RELATION_SIZE'].to_numpy() - df['CONCURRENT_PLACES'].to_numpy())\n",
    "\n",
    "    # Plot filling ratios with vs without reduction\n",
    "    plt.figure(figsize=(8,8))\n",
    "    ax = plt.gca()\n",
    "    plt.scatter(x=x, y=y, marker='+', s=100)  \n",
    "    plt.plot(np.linspace(0, 500), np.linspace(0, 500), color='black', linestyle='--', lw=2, scalex=False, scaley=False)\n",
    "    plt.xlim(-0.1,101)\n",
    "    plt.ylim(-0.1,101)\n",
    "    plt.xlabel('Filling ratio of the independent places without reduction (%)', fontsize=13)\n",
    "    plt.ylabel('Filling ratio of the independent places with reduction (%)', fontsize=13)\n",
    "    plt.savefig(\"independent_places_{}_{}.png\".format(ratio_min, ratio_max), bbox_inches = 'tight')\n",
    "    plt.show()"
   ]
  },
  {
   "cell_type": "code",
   "execution_count": null,
   "metadata": {},
   "outputs": [],
   "source": [
    "concurrent_and_independant_places_filling_ratio(50, 100)"
   ]
  }
 ],
 "metadata": {
  "kernelspec": {
   "display_name": "Python 3",
   "language": "python",
   "name": "python3"
  },
  "language_info": {
   "codemirror_mode": {
    "name": "ipython",
    "version": 3
   },
   "file_extension": ".py",
   "mimetype": "text/x-python",
   "name": "python",
   "nbconvert_exporter": "python",
   "pygments_lexer": "ipython3",
   "version": "3.6.9"
  }
 },
 "nbformat": 4,
 "nbformat_minor": 4
}
