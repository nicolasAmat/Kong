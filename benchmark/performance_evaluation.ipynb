{
 "metadata": {
  "language_info": {
   "codemirror_mode": {
    "name": "ipython",
    "version": 3
   },
   "file_extension": ".py",
   "mimetype": "text/x-python",
   "name": "python",
   "nbconvert_exporter": "python",
   "pygments_lexer": "ipython3",
   "version": "3.6.9-final"
  },
  "orig_nbformat": 2,
  "kernelspec": {
   "name": "python_defaultSpec_1599223139393",
   "display_name": "Python 3.6.9 64-bit"
  }
 },
 "nbformat": 4,
 "nbformat_minor": 2,
 "cells": [
  {
   "cell_type": "markdown",
   "metadata": {},
   "source": [
    "# Kong: Performance Evaluation"
   ]
  },
  {
   "cell_type": "code",
   "execution_count": 11,
   "metadata": {
    "tags": []
   },
   "outputs": [],
   "source": [
    "import matplotlib.pyplot as plt\n",
    "import numpy as np\n",
    "import os"
   ]
  },
  {
   "cell_type": "markdown",
   "metadata": {},
   "source": [
    "## Benchmarks"
   ]
  },
  {
   "cell_type": "code",
   "execution_count": 12,
   "metadata": {},
   "outputs": [],
   "source": [
    "# Export the environment variable needed by Kong (need to be modified for your configuration!)\n",
    "os.environ[\"PNML2NUPN\"] = \"~/pnml2nupn-3.2.0.jar\""
   ]
  },
  {
   "cell_type": "code",
   "execution_count": 13,
   "metadata": {},
   "outputs": [
    {
     "output_type": "execute_result",
     "data": {
      "text/plain": "256"
     },
     "metadata": {},
     "execution_count": 13
    }
   ],
   "source": [
    "MODELS_URL = \"https://mcc.lip6.fr/archives/\"\n",
    "MODELS_DIR = \"models/\"\n",
    "\n",
    "os.system(\"mkdir {}\".format(MODELS_DIR))\n",
    "os.system(\"wget -r --no-parent -A '*pnml.tar.gz' {} -P {}\".format(MODELS_URL, MODELS_DIR)) \n",
    "os.system(\"ls {}*.tar.gz | xargs -n1 tar -xvf\".format(MODELS_DIR))\n",
    "os.system(\"rm {}*.tar.gz\".format(MODELS_DIR)) \n"
   ]
  },
  {
   "cell_type": "code",
   "execution_count": null,
   "metadata": {},
   "outputs": [],
   "source": []
  }
 ]
}