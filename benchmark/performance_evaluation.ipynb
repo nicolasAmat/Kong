{
 "cells": [
  {
   "cell_type": "markdown",
   "metadata": {},
   "source": [
    "# Kong: Performance Evaluation"
   ]
  },
  {
   "cell_type": "markdown",
   "metadata": {},
   "source": [
    "In this notebook, we report on some experimental results obtained with Kong."
   ]
  },
  {
   "cell_type": "markdown",
   "metadata": {},
   "source": [
    "### Setup Analysis"
   ]
  },
  {
   "cell_type": "markdown",
   "metadata": {},
   "source": [
    "Import librairies"
   ]
  },
  {
   "cell_type": "code",
   "execution_count": null,
   "metadata": {},
   "outputs": [],
   "source": [
    "%matplotlib inline\n",
    "\n",
    "import matplotlib.pyplot as plt\n",
    "import matplotlib as mpl\n",
    "import numpy as np\n",
    "import pandas as pd"
   ]
  },
  {
   "cell_type": "markdown",
   "metadata": {},
   "source": [
    "Path to data"
   ]
  },
  {
   "cell_type": "code",
   "execution_count": null,
   "metadata": {},
   "outputs": [],
   "source": [
    "path_data = 'OUTPUTS/'"
   ]
  },
  {
   "cell_type": "markdown",
   "metadata": {},
   "source": [
    "Settings"
   ]
  },
  {
   "cell_type": "code",
   "execution_count": null,
   "metadata": {},
   "outputs": [],
   "source": [
    "TIMEOUT = 3600"
   ]
  },
  {
   "cell_type": "markdown",
   "metadata": {},
   "source": [
    "## Load Data"
   ]
  },
  {
   "cell_type": "markdown",
   "metadata": {},
   "source": [
    "Reductions data frame."
   ]
  },
  {
   "cell_type": "code",
   "execution_count": null,
   "metadata": {},
   "outputs": [],
   "source": [
    "# Read 'reductions.csv'\n",
    "df_reductions = pd.read_csv(path_data + 'reductions.csv')\n",
    "df_reductions"
   ]
  },
  {
   "cell_type": "markdown",
   "metadata": {},
   "source": [
    "Computations data frame."
   ]
  },
  {
   "cell_type": "code",
   "execution_count": null,
   "metadata": {},
   "outputs": [],
   "source": [
    "# Read 'computations.csv'\n",
    "df_computations = pd.read_csv(path_data + 'computations.csv')\n",
    "df_computations"
   ]
  },
  {
   "cell_type": "markdown",
   "metadata": {},
   "source": [
    "## Tool Confidence rate"
   ]
  },
  {
   "cell_type": "markdown",
   "metadata": {},
   "source": [
    "### Reliability"
   ]
  },
  {
   "cell_type": "code",
   "execution_count": null,
   "metadata": {},
   "outputs": [],
   "source": [
    "reliability = df_computations.query('CORRECTNESS == False').shape[0] / df_computations.shape[0] * 100\n",
    "reliability"
   ]
  },
  {
   "cell_type": "markdown",
   "metadata": {},
   "source": [
    "### Correct Matrices"
   ]
  },
  {
   "cell_type": "markdown",
   "metadata": {},
   "source": [
    "Correct matrices."
   ]
  },
  {
   "cell_type": "code",
   "execution_count": null,
   "metadata": {},
   "outputs": [],
   "source": [
    "correct_matrices = df_computations.query('CORRECTNESS == True and TIME_KONG == TIME_KONG').shape[0]\n",
    "correct_matrices"
   ]
  },
  {
   "cell_type": "markdown",
   "metadata": {},
   "source": [
    "### Summary Table"
   ]
  },
  {
   "source": [
    "Computed matrices using Kong."
   ],
   "cell_type": "markdown",
   "metadata": {}
  },
  {
   "cell_type": "code",
   "execution_count": null,
   "metadata": {},
   "outputs": [],
   "source": [
    "computed_matrices_using_Kong = df_computations.query('TIME_KONG == TIME_KONG').shape[0]\n",
    "computed_matrices_using_Kong"
   ]
  },
  {
   "source": [
    "Computed matrices using caesar."
   ],
   "cell_type": "markdown",
   "metadata": {}
  },
  {
   "cell_type": "code",
   "execution_count": null,
   "metadata": {},
   "outputs": [],
   "source": [
    "computed_matrices_using_caesar = df_computations.query('TIME_CAESAR == TIME_CAESAR').shape[0]\n",
    "computed_matrices_using_caesar"
   ]
  },
  {
   "cell_type": "code",
   "execution_count": null,
   "metadata": {},
   "outputs": [],
   "source": [
    "summary = {'Reliability': [reliability, np.nan], 'Computed Matrices': [computed_matrices_using_Kong, computed_matrices_using_caesar]}\n",
    "pd.DataFrame(data=summary, index=['Kong', 'Caesar'])"
   ]
  },
  {
   "cell_type": "markdown",
   "metadata": {},
   "source": [
    "## Analysis"
   ]
  },
  {
   "cell_type": "markdown",
   "metadata": {},
   "source": [
    "Performance evalutation of the *polyhedral abstraction* approach."
   ]
  },
  {
   "cell_type": "markdown",
   "metadata": {},
   "source": [
    "### Reduction Ratio "
   ]
  },
  {
   "cell_type": "markdown",
   "metadata": {},
   "source": [
    "Reduction ratio among instances."
   ]
  },
  {
   "cell_type": "code",
   "execution_count": null,
   "metadata": {},
   "outputs": [],
   "source": [
    "# Count instances with same reduction ratio\n",
    "ratio_frequency = df_reductions['RATIO'].value_counts().sort_index(ascending=False)\n",
    "\n",
    "# Cumulative data frame\n",
    "df_ratio_frequency = pd.DataFrame({'INSTANCES': ratio_frequency.values}).cumsum()\n",
    "df_ratio_frequency['RATIO'] = ratio_frequency.index\n",
    "\n",
    "# Add row '0'\n",
    "df_first_row = pd.DataFrame([{'INSTANCES': 1, 'RATIO': df_ratio_frequency['RATIO'][0]}])\n",
    "df_ratio_frequency = pd.concat([df_first_row, df_ratio_frequency])\n",
    "\n",
    "# Draw instances reduction ratio\n",
    "df_ratio_frequency.plot.area(x='INSTANCES', xlim=(0,df_reductions.shape[0]), ylim=(0,100), color='cornflowerblue', figsize=(13,3), legend='')\n",
    "plt.xlabel('Number of instances', fontsize=13)\n",
    "plt.ylabel('Reduction ratio (%)', fontsize=13)\n",
    "\n",
    "plt.savefig('reduction.png', bbox_inches = 'tight')\n",
    "\n",
    "plt.show()"
   ]
  },
  {
   "cell_type": "markdown",
   "metadata": {},
   "source": [
    "### General Performance Overview"
   ]
  },
  {
   "cell_type": "code",
   "execution_count": null,
   "metadata": {},
   "outputs": [],
   "source": [
    "# Get computations with reduction ratio\n",
    "df_computations_with_ratio = df_computations.join(df_reductions.set_index('INSTANCE'), on='INSTANCE')\n",
    "\n",
    "# Display mean reduction time\n",
    "print('Mean reduction time: ', df_computations_with_ratio['TIME'].mean())"
   ]
  },
  {
   "cell_type": "code",
   "execution_count": null,
   "metadata": {},
   "outputs": [],
   "source": [
    "def information_per_reduction_range(ratio_min, ratio_max):\n",
    "    \"\"\" Return information for a given reduction range.\n",
    "    \"\"\"\n",
    "    df = df_computations_with_ratio.query('RATIO >= {} and RATIO <= {}'.format(ratio_min, ratio_max))\n",
    "\n",
    "    reduction_range = '{}-{}%'.format(ratio_min, ratio_max)\n",
    "\n",
    "    number_instances = df[['INSTANCE']].drop_duplicates().shape[0]\n",
    "\n",
    "    computed_matrices_using_Kong = df.query('TIME_KONG == TIME_KONG').shape[0]\n",
    "    computed_matrices_using_caesar = df.query('TIME_CAESAR == TIME_CAESAR').shape[0]\n",
    "    gain = (1 - computed_matrices_using_caesar / computed_matrices_using_Kong) * 100\n",
    "\n",
    "    return [reduction_range, number_instances, computed_matrices_using_Kong, computed_matrices_using_caesar, gain]"
   ]
  },
  {
   "cell_type": "markdown",
   "metadata": {},
   "source": [
    "Summary table."
   ]
  },
  {
   "cell_type": "code",
   "execution_count": null,
   "metadata": {},
   "outputs": [],
   "source": [
    "performance_overview = pd.DataFrame([information_per_reduction_range(ratio_min, ratio_max) for ratio_min, ratio_max in [[30, 100], [30, 70], [60, 99], [100,100]]], columns=['Reduction Ratio', 'Number of Instances', 'Computed Matrices using Kong', 'Computed Matrices using Caesar', 'Gain (%)'])\n",
    "performance_overview.set_index('Reduction Ratio')"
   ]
  },
  {
   "cell_type": "markdown",
   "metadata": {},
   "source": [
    "### Matrix Computation Times: With VS Without Reduction"
   ]
  },
  {
   "cell_type": "markdown",
   "metadata": {},
   "source": [
    "Comparaison of the number of computed matrices in a limited time between Kong and caesar."
   ]
  },
  {
   "cell_type": "code",
   "execution_count": null,
   "metadata": {},
   "outputs": [],
   "source": [
    "def time_with_vs_without_reduction(ratio_min, ratio_max):\n",
    "    \"\"\" Plot matrix computation times with vs without reduction.\n",
    "    \"\"\"\n",
    "    # Get computed matrices for a given reduction range (remove isntances that timeout using Kong and caesar)\n",
    "    df = df_computations.join(df_reductions.set_index('INSTANCE'), on='INSTANCE').query('RATIO >= {} and RATIO <= {} and (TIME_KONG == TIME_KONG or TIME_CAESAR == TIME_CAESAR)'.format(ratio_min, ratio_max))\n",
    "    \n",
    "    # Replace timeout NaN values by the timeout value\n",
    "    df.loc[df.TIME_KONG != df.TIME_KONG, 'TIME_KONG'] = TIMEOUT\n",
    "    df.loc[df.TIME_CAESAR != df.TIME_CAESAR, 'TIME_CAESAR'] = TIMEOUT\n",
    "\n",
    "    # Replace 0 values by 0.1\n",
    "    df.loc[df.TIME_KONG == 0, 'TIME_KONG'] = 0.01\n",
    "    df.loc[df.TIME_CAESAR == 0, 'TIME_CAESAR'] = 0.01\n",
    "\n",
    "    # Get times using Kong and caesar \n",
    "    x = df['TIME_CAESAR'].to_numpy()\n",
    "    y = df['TIME_KONG'].to_numpy()\n",
    "     \n",
    "    # Plot time with vs without reduction with log scale\n",
    "    plt.figure(figsize=(8,8))\n",
    "    ax = plt.gca()\n",
    "    plt.scatter(x=x, y=y, marker='+')  \n",
    "    plt.plot(np.linspace(0.00, TIMEOUT), np.linspace(0.00, TIMEOUT), color='black', linestyle='--', lw=2, scalex=False, scaley=False)\n",
    "    plt.plot(np.linspace(0.00, TIMEOUT), 0.1 * np.linspace(0.00, TIMEOUT), color='orange', linestyle=':', lw=2, scalex=False, scaley=False)\n",
    "    plt.plot(np.linspace(0.00, TIMEOUT), 0.01 * np.linspace(0.00, TIMEOUT), color='red', linestyle=':', lw=2, scalex=False, scaley=False)\n",
    "    ax.set_xscale('log')\n",
    "    ax.set_yscale('log')\n",
    "    plt.xlabel('Computation time without reduction (s)')\n",
    "    plt.ylabel('Computation time with reduction (s)')\n",
    "    plt.savefig(\"time_{}_{}.png\".format(ratio_min, ratio_max), bbox_inches = 'tight')\n",
    "    plt.show()\n",
    "\n",
    "    # Plot number of properties, number of computed matrices with reduction and without reduction\n",
    "    plt.figure(figsize=(1,8))\n",
    "    plt.bar([0], [df_computations.join(df_reductions.set_index('INSTANCE'), on='INSTANCE').query('RATIO >= {} and RATIO <= {}'.format(ratio_min, ratio_max)).shape[0]], color='orange', label='All instances')\n",
    "    plt.bar([0], [df_computations.join(df_reductions.set_index('INSTANCE'), on='INSTANCE').query('RATIO >= {} and RATIO <= {} and TIME_KONG < {}'.format(ratio_min, ratio_max, TIMEOUT)).shape[0]], label='Matrices computed with reduction')\n",
    "    plt.bar([0], [df_computations.join(df_reductions.set_index('INSTANCE'), on='INSTANCE').query('RATIO >= {} and RATIO <= {} and TIME_CAESAR < {}'.format(ratio_min, ratio_max, TIMEOUT)).shape[0]], color='cyan', label='Matrices computed without reduction')\n",
    "    plt.legend(loc='upper left')\n",
    "    ax = plt.gca()\n",
    "    ax.axes.xaxis.set_visible(False)\n",
    "    plt.xlim([0, 0.1])\n",
    "    plt.savefig(\"bar_{}_{}.png\".format(ratio_min, ratio_max), bbox_inches = 'tight')\n",
    "    plt.show()"
   ]
  },
  {
   "cell_type": "code",
   "execution_count": null,
   "metadata": {},
   "outputs": [],
   "source": [
    "time_with_vs_without_reduction(50, 100)"
   ]
  }
 ],
 "metadata": {
  "kernelspec": {
   "display_name": "Python 3",
   "language": "python",
   "name": "python3"
  },
  "language_info": {
   "codemirror_mode": {
    "name": "ipython",
    "version": 3
   },
   "file_extension": ".py",
   "mimetype": "text/x-python",
   "name": "python",
   "nbconvert_exporter": "python",
   "pygments_lexer": "ipython3",
   "version": "3.6.9-final"
  }
 },
 "nbformat": 4,
 "nbformat_minor": 4
}