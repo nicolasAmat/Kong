{
 "metadata": {
  "language_info": {
   "codemirror_mode": {
    "name": "ipython",
    "version": 3
   },
   "file_extension": ".py",
   "mimetype": "text/x-python",
   "name": "python",
   "nbconvert_exporter": "python",
   "pygments_lexer": "ipython3",
   "version": 3
  },
  "orig_nbformat": 2,
  "kernelspec": {
   "name": "python_defaultSpec_1595496037625",
   "display_name": "Python 3.6.9 64-bit"
  }
 },
 "nbformat": 4,
 "nbformat_minor": 2,
 "cells": [
  {
   "cell_type": "markdown",
   "metadata": {},
   "source": [
    "# Kong: Performance Evaluation"
   ]
  },
  {
   "cell_type": "code",
   "execution_count": 3,
   "metadata": {
    "tags": []
   },
   "outputs": [],
   "source": [
    "import matplotlib.pyplot as plt\n",
    "import numpy as np\n",
    "import os\n",
    "\n",
    "os.environ[\"PNML2NUPN\"] = \"~/pnml2nupn-3.2.0.jar\""
   ]
  },
  {
   "cell_type": "code",
   "execution_count": 4,
   "metadata": {},
   "outputs": [
    {
     "output_type": "execute_result",
     "data": {
      "text/plain": "0"
     },
     "metadata": {},
     "execution_count": 4
    }
   ],
   "source": [
    "MODELS_URL = \"https://mcc.lip6.fr/2019/archives/2019-mcc-models.tar.gz\"\n",
    "os.system(\"wget {}\".format(MODELS_URL))\n",
    "\n",
    "#  wget -r --no-parent -A '*-pnml.tar.gz' https://mcc.lip6.fr/archives/\n",
    "# ls *.tar.gz |xargs -n1 tar -xvf\n",
    "# rm *.tar.gz\n"
   ]
  }
 ]
}